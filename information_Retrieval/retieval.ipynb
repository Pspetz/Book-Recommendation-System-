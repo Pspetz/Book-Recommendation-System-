{
 "cells": [
  {
   "cell_type": "code",
   "execution_count": 1,
   "metadata": {},
   "outputs": [],
   "source": [
    "from elasticsearch import Elasticsearch\n",
    "import pandas as pd\n",
    "from elasticsearch import Elasticsearch, helpers\n",
    "import csv"
   ]
  },
  {
   "cell_type": "code",
   "execution_count": 2,
   "metadata": {},
   "outputs": [],
   "source": [
    "x = pd.read_csv(\"BX-Books.csv\")"
   ]
  },
  {
   "cell_type": "code",
   "execution_count": 3,
   "metadata": {},
   "outputs": [
    {
     "name": "stderr",
     "output_type": "stream",
     "text": [
      "/tmp/ipykernel_26109/14441745.py:3: ElasticsearchWarning: Elasticsearch built-in security features are not enabled. Without authentication, your cluster could be accessible to anyone. See https://www.elastic.co/guide/en/elasticsearch/reference/7.17/security-minimal-setup.html to enable security.\n",
      "  if not es.ping():\n"
     ]
    }
   ],
   "source": [
    "es = Elasticsearch(['http://localhost:9200/'], verify_certs=True)\n",
    "\n",
    "if not es.ping():\n",
    "    raise ValueError(\"Connection failed\")"
   ]
  },
  {
   "cell_type": "code",
   "execution_count": 4,
   "metadata": {},
   "outputs": [
    {
     "name": "stderr",
     "output_type": "stream",
     "text": [
      "/tmp/ipykernel_26109/2890276615.py:1: DeprecationWarning: Passing transport options in the API method is deprecated. Use 'Elasticsearch.options()' instead.\n",
      "  es.indices.create(index='book_index', ignore=400)\n",
      "/tmp/ipykernel_26109/2890276615.py:1: ElasticsearchWarning: Elasticsearch built-in security features are not enabled. Without authentication, your cluster could be accessible to anyone. See https://www.elastic.co/guide/en/elasticsearch/reference/7.17/security-minimal-setup.html to enable security.\n",
      "  es.indices.create(index='book_index', ignore=400)\n",
      "/tmp/ipykernel_26109/2890276615.py:6: ElasticsearchWarning: Elasticsearch built-in security features are not enabled. Without authentication, your cluster could be accessible to anyone. See https://www.elastic.co/guide/en/elasticsearch/reference/7.17/security-minimal-setup.html to enable security.\n",
      "  if es.indices.exists(index=\"bxbooks\"):\n",
      "/tmp/ipykernel_26109/2890276615.py:11: ElasticsearchWarning: Elasticsearch built-in security features are not enabled. Without authentication, your cluster could be accessible to anyone. See https://www.elastic.co/guide/en/elasticsearch/reference/7.17/security-minimal-setup.html to enable security.\n",
      "  helpers.bulk(es, reader, index='bxbooks')\n"
     ]
    },
    {
     "name": "stdout",
     "output_type": "stream",
     "text": [
      "{'customer': {'aliases': {}}, '.tasks': {'aliases': {}}, '.kibana-event-log-7.17.7-000001': {'aliases': {'.kibana-event-log-7.17.7': {'is_write_index': True, 'is_hidden': True}}}, '.apm-agent-configuration': {'aliases': {}}, '.kibana_task_manager_7.17.7_001': {'aliases': {'.kibana_task_manager': {}, '.kibana_task_manager_7.17.7': {}}}, 'book_index': {'aliases': {}}, 'sptz': {'aliases': {}}, '.apm-custom-link': {'aliases': {}}, 'spetz': {'aliases': {}}, 'spt': {'aliases': {}}, '.kibana_7.17.7_001': {'aliases': {'.kibana': {}, '.kibana_7.17.7': {}}}, 'books': {'aliases': {}}, 'bxbooks': {'aliases': {}}, '.async-search': {'aliases': {}}}\n"
     ]
    },
    {
     "name": "stderr",
     "output_type": "stream",
     "text": [
      "/tmp/ipykernel_26109/2890276615.py:13: ElasticsearchWarning: Elasticsearch built-in security features are not enabled. Without authentication, your cluster could be accessible to anyone. See https://www.elastic.co/guide/en/elasticsearch/reference/7.17/security-minimal-setup.html to enable security.\n",
      "  if es.indices.exists(index='bxbooks'):\n",
      "/tmp/ipykernel_26109/2890276615.py:14: ElasticsearchWarning: Elasticsearch built-in security features are not enabled. Without authentication, your cluster could be accessible to anyone. See https://www.elastic.co/guide/en/elasticsearch/reference/7.17/security-minimal-setup.html to enable security.\n",
      "  print(es.indices.get_alias())\n",
      "/tmp/ipykernel_26109/2890276615.py:14: ElasticsearchWarning: this request accesses system indices: [.tasks, .apm-agent-configuration, .kibana_task_manager_7.17.7_001, .apm-custom-link, .kibana_7.17.7_001, .async-search], but in a future major version, direct access to system indices will be prevented by default\n",
      "  print(es.indices.get_alias())\n"
     ]
    }
   ],
   "source": [
    "\n",
    "es.indices.create(index='book_index', ignore=400)\n",
    "\n",
    "df = pd.read_csv('BX-Books.csv', delimiter=',', encoding=\"utf-8\", skipinitialspace=True)\n",
    "    # print(df)\n",
    "\n",
    "if es.indices.exists(index=\"bxbooks\"):\n",
    "  pass\n",
    "else:\n",
    "  with open('BX-Books.csv') as f:\n",
    "    reader = csv.DictReader(f)\n",
    "    helpers.bulk(es, reader, index='bxbooks')\n",
    "\n",
    "if es.indices.exists(index='bxbooks'):\n",
    "  print(es.indices.get_alias())\n",
    "\n"
   ]
  },
  {
   "cell_type": "code",
   "execution_count": 5,
   "metadata": {},
   "outputs": [
    {
     "name": "stderr",
     "output_type": "stream",
     "text": [
      "/tmp/ipykernel_26109/2557337791.py:2: DeprecationWarning: The 'body' parameter is deprecated and will be removed in a future version. Instead use individual parameters.\n",
      "  es.search(body={\"query\": {\"match_all\": {}}}, index = 'bxbooks')\n",
      "/tmp/ipykernel_26109/2557337791.py:2: ElasticsearchWarning: Elasticsearch built-in security features are not enabled. Without authentication, your cluster could be accessible to anyone. See https://www.elastic.co/guide/en/elasticsearch/reference/7.17/security-minimal-setup.html to enable security.\n",
      "  es.search(body={\"query\": {\"match_all\": {}}}, index = 'bxbooks')\n",
      "/tmp/ipykernel_26109/2557337791.py:3: ElasticsearchWarning: Elasticsearch built-in security features are not enabled. Without authentication, your cluster could be accessible to anyone. See https://www.elastic.co/guide/en/elasticsearch/reference/7.17/security-minimal-setup.html to enable security.\n",
      "  es.indices.get_mapping(index = 'bxbooks')\n"
     ]
    },
    {
     "data": {
      "text/plain": [
       "ObjectApiResponse({'bxbooks': {'mappings': {'properties': {'book_author': {'type': 'text', 'fields': {'keyword': {'type': 'keyword', 'ignore_above': 256}}}, 'book_title': {'type': 'text', 'fields': {'keyword': {'type': 'keyword', 'ignore_above': 256}}}, 'category': {'type': 'text', 'fields': {'keyword': {'type': 'keyword', 'ignore_above': 256}}}, 'isbn': {'type': 'text', 'fields': {'keyword': {'type': 'keyword', 'ignore_above': 256}}}, 'publisher': {'type': 'text', 'fields': {'keyword': {'type': 'keyword', 'ignore_above': 256}}}, 'summary': {'type': 'text', 'fields': {'keyword': {'type': 'keyword', 'ignore_above': 256}}}, 'year_of_publication': {'type': 'text', 'fields': {'keyword': {'type': 'keyword', 'ignore_above': 256}}}}}}})"
      ]
     },
     "execution_count": 5,
     "metadata": {},
     "output_type": "execute_result"
    }
   ],
   "source": [
    "# check data is in there, and structure in there\n",
    "es.search(body={\"query\": {\"match_all\": {}}}, index = 'bxbooks')\n",
    "es.indices.get_mapping(index = 'bxbooks')"
   ]
  }
 ],
 "metadata": {
  "kernelspec": {
   "display_name": "Python 3.10.4 64-bit",
   "language": "python",
   "name": "python3"
  },
  "language_info": {
   "codemirror_mode": {
    "name": "ipython",
    "version": 3
   },
   "file_extension": ".py",
   "mimetype": "text/x-python",
   "name": "python",
   "nbconvert_exporter": "python",
   "pygments_lexer": "ipython3",
   "version": "3.10.4"
  },
  "orig_nbformat": 4,
  "vscode": {
   "interpreter": {
    "hash": "916dbcbb3f70747c44a77c7bcd40155683ae19c65e1c03b4aa3499c5328201f1"
   }
  }
 },
 "nbformat": 4,
 "nbformat_minor": 2
}
